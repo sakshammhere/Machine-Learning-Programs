{
  "metadata": {
    "kernelspec": {
      "name": "python",
      "display_name": "Python (Pyodide)",
      "language": "python"
    },
    "language_info": {
      "codemirror_mode": {
        "name": "python",
        "version": 3
      },
      "file_extension": ".py",
      "mimetype": "text/x-python",
      "name": "python",
      "nbconvert_exporter": "python",
      "pygments_lexer": "ipython3",
      "version": "3.8"
    }
  },
  "nbformat_minor": 5,
  "nbformat": 4,
  "cells": [
    {
      "id": "c022860d-5cc9-44a8-98ec-718b9d6b591a",
      "cell_type": "code",
      "source": "import pandas as pd\nfrom sklearn.model_selection import train_test_split\nfrom sklearn.ensemble import RandomForestClassifier\nfrom sklearn.metrics import accuracy_score\n\niris_data = pd.read_csv(\"iris.csv\")\nX = iris_data.drop(columns=['flower_class'])  \ny = iris_data['flower_class']\n\nxtr, xts, ytr, yts = train_test_split(X, y, test_size=0.5)#, random_state=42)\n\nmodel = RandomForestClassifier()#random_state=42)\n\nmodel.fit(xtr, ytr)\n\ny_pred = model.predict(xts)\n\naccuracy = accuracy_score(yts, y_pred)\nprint(f'Accuracy: {accuracy * 100:.2f}%')\n\nnew_data = [[5.7, 1.4, 1.9, 0.3]]\n\npredictions = model.predict(new_data)\n\nprint(f'Predicted class for the new data: {predictions[0]}')",
      "metadata": {
        "trusted": true
      },
      "outputs": [
        {
          "name": "stdout",
          "text": "Accuracy: 93.33%\n",
          "output_type": "stream"
        },
        {
          "name": "stderr",
          "text": "/lib/python3.12/site-packages/sklearn/base.py:493: UserWarning: X does not have valid feature names, but RandomForestClassifier was fitted with feature names\n  warnings.warn(\n",
          "output_type": "stream"
        },
        {
          "name": "stdout",
          "text": "Predicted class for the new data: 0\n",
          "output_type": "stream"
        }
      ],
      "execution_count": 2
    },
    {
      "id": "4c00f39e-fe7d-4a3c-809d-cac0979e582b",
      "cell_type": "code",
      "source": "",
      "metadata": {
        "trusted": true
      },
      "outputs": [],
      "execution_count": null
    },
    {
      "id": "547834ac-b8d2-447c-8351-2c18a7f1be51",
      "cell_type": "code",
      "source": "",
      "metadata": {
        "trusted": true
      },
      "outputs": [],
      "execution_count": null
    }
  ]
}